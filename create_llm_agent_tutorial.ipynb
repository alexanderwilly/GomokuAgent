{
  "cells": [
    {
      "cell_type": "markdown",
      "metadata": {
        "id": "ryKEzf-fcT_G"
      },
      "source": [
        "# Building Your Own LLM Agent for Gomoku: A Step-by-Step Tutorial\n",
        "\n",
        "Welcome to this hands-on tutorial where you'll learn how to create your own AI agent that uses a Large Language Model (LLM) to play Gomoku (also known as Five-in-a-Row)!\n",
        "\n",
        "## What You'll Learn\n",
        "- How to design and implement an AI agent from scratch\n",
        "- How Large Language Models can be used for strategic gameplay\n",
        "- How to integrate your agent with an existing game framework\n",
        "- How to run competitions between different AI strategies\n",
        "\n",
        "## Prerequisites\n",
        "- Basic Python knowledge\n",
        "- Understanding of classes and inheritance\n",
        "- Familiarity with async/await (we'll explain as we go)\n",
        "\n",
        "Let's get started!"
      ]
    },
    {
      "cell_type": "code",
      "execution_count": 17,
      "metadata": {
        "id": "p3bHWBvucYCv"
      },
      "outputs": [
        {
          "name": "stdout",
          "output_type": "stream",
          "text": [
            "Collecting git+https://github.com/sitfoxfly/gomoku-ai\n",
            "  Cloning https://github.com/sitfoxfly/gomoku-ai to c:\\users\\alexander willy joha\\appdata\\local\\temp\\pip-req-build-2k89uibp\n",
            "  Resolved https://github.com/sitfoxfly/gomoku-ai to commit 13efdaa4ad34f4c42fe600998528c6d2c09e63de\n",
            "  Installing build dependencies: started\n",
            "  Installing build dependencies: finished with status 'done'\n",
            "  Getting requirements to build wheel: started\n",
            "  Getting requirements to build wheel: finished with status 'done'\n",
            "  Preparing metadata (pyproject.toml): started\n",
            "  Preparing metadata (pyproject.toml): finished with status 'done'\n",
            "Requirement already satisfied: openai>=1.0.0 in c:\\users\\alexander willy joha\\documents\\docs\\smu\\cs613 - prompt engineering\\assignment\\a2\\gomokuagent\\.venv\\lib\\site-packages (from gomoku-ai==0.1.1) (1.99.1)\n",
            "Requirement already satisfied: tenacity>=8.0.0 in c:\\users\\alexander willy joha\\documents\\docs\\smu\\cs613 - prompt engineering\\assignment\\a2\\gomokuagent\\.venv\\lib\\site-packages (from gomoku-ai==0.1.1) (9.1.2)\n",
            "Requirement already satisfied: GitPython>=3.1.0 in c:\\users\\alexander willy joha\\documents\\docs\\smu\\cs613 - prompt engineering\\assignment\\a2\\gomokuagent\\.venv\\lib\\site-packages (from gomoku-ai==0.1.1) (3.1.45)\n",
            "Requirement already satisfied: gitdb<5,>=4.0.1 in c:\\users\\alexander willy joha\\documents\\docs\\smu\\cs613 - prompt engineering\\assignment\\a2\\gomokuagent\\.venv\\lib\\site-packages (from GitPython>=3.1.0->gomoku-ai==0.1.1) (4.0.12)\n",
            "Requirement already satisfied: anyio<5,>=3.5.0 in c:\\users\\alexander willy joha\\documents\\docs\\smu\\cs613 - prompt engineering\\assignment\\a2\\gomokuagent\\.venv\\lib\\site-packages (from openai>=1.0.0->gomoku-ai==0.1.1) (4.10.0)\n",
            "Requirement already satisfied: distro<2,>=1.7.0 in c:\\users\\alexander willy joha\\documents\\docs\\smu\\cs613 - prompt engineering\\assignment\\a2\\gomokuagent\\.venv\\lib\\site-packages (from openai>=1.0.0->gomoku-ai==0.1.1) (1.9.0)\n",
            "Requirement already satisfied: httpx<1,>=0.23.0 in c:\\users\\alexander willy joha\\documents\\docs\\smu\\cs613 - prompt engineering\\assignment\\a2\\gomokuagent\\.venv\\lib\\site-packages (from openai>=1.0.0->gomoku-ai==0.1.1) (0.28.1)\n",
            "Requirement already satisfied: jiter<1,>=0.4.0 in c:\\users\\alexander willy joha\\documents\\docs\\smu\\cs613 - prompt engineering\\assignment\\a2\\gomokuagent\\.venv\\lib\\site-packages (from openai>=1.0.0->gomoku-ai==0.1.1) (0.10.0)\n",
            "Requirement already satisfied: pydantic<3,>=1.9.0 in c:\\users\\alexander willy joha\\documents\\docs\\smu\\cs613 - prompt engineering\\assignment\\a2\\gomokuagent\\.venv\\lib\\site-packages (from openai>=1.0.0->gomoku-ai==0.1.1) (2.11.7)\n",
            "Requirement already satisfied: sniffio in c:\\users\\alexander willy joha\\documents\\docs\\smu\\cs613 - prompt engineering\\assignment\\a2\\gomokuagent\\.venv\\lib\\site-packages (from openai>=1.0.0->gomoku-ai==0.1.1) (1.3.1)\n",
            "Requirement already satisfied: tqdm>4 in c:\\users\\alexander willy joha\\documents\\docs\\smu\\cs613 - prompt engineering\\assignment\\a2\\gomokuagent\\.venv\\lib\\site-packages (from openai>=1.0.0->gomoku-ai==0.1.1) (4.67.1)\n",
            "Requirement already satisfied: typing-extensions<5,>=4.11 in c:\\users\\alexander willy joha\\documents\\docs\\smu\\cs613 - prompt engineering\\assignment\\a2\\gomokuagent\\.venv\\lib\\site-packages (from openai>=1.0.0->gomoku-ai==0.1.1) (4.14.1)\n",
            "Requirement already satisfied: idna>=2.8 in c:\\users\\alexander willy joha\\documents\\docs\\smu\\cs613 - prompt engineering\\assignment\\a2\\gomokuagent\\.venv\\lib\\site-packages (from anyio<5,>=3.5.0->openai>=1.0.0->gomoku-ai==0.1.1) (3.10)\n",
            "Requirement already satisfied: smmap<6,>=3.0.1 in c:\\users\\alexander willy joha\\documents\\docs\\smu\\cs613 - prompt engineering\\assignment\\a2\\gomokuagent\\.venv\\lib\\site-packages (from gitdb<5,>=4.0.1->GitPython>=3.1.0->gomoku-ai==0.1.1) (5.0.2)\n",
            "Requirement already satisfied: certifi in c:\\users\\alexander willy joha\\documents\\docs\\smu\\cs613 - prompt engineering\\assignment\\a2\\gomokuagent\\.venv\\lib\\site-packages (from httpx<1,>=0.23.0->openai>=1.0.0->gomoku-ai==0.1.1) (2025.8.3)\n",
            "Requirement already satisfied: httpcore==1.* in c:\\users\\alexander willy joha\\documents\\docs\\smu\\cs613 - prompt engineering\\assignment\\a2\\gomokuagent\\.venv\\lib\\site-packages (from httpx<1,>=0.23.0->openai>=1.0.0->gomoku-ai==0.1.1) (1.0.9)\n",
            "Requirement already satisfied: h11>=0.16 in c:\\users\\alexander willy joha\\documents\\docs\\smu\\cs613 - prompt engineering\\assignment\\a2\\gomokuagent\\.venv\\lib\\site-packages (from httpcore==1.*->httpx<1,>=0.23.0->openai>=1.0.0->gomoku-ai==0.1.1) (0.16.0)\n",
            "Requirement already satisfied: annotated-types>=0.6.0 in c:\\users\\alexander willy joha\\documents\\docs\\smu\\cs613 - prompt engineering\\assignment\\a2\\gomokuagent\\.venv\\lib\\site-packages (from pydantic<3,>=1.9.0->openai>=1.0.0->gomoku-ai==0.1.1) (0.7.0)\n",
            "Requirement already satisfied: pydantic-core==2.33.2 in c:\\users\\alexander willy joha\\documents\\docs\\smu\\cs613 - prompt engineering\\assignment\\a2\\gomokuagent\\.venv\\lib\\site-packages (from pydantic<3,>=1.9.0->openai>=1.0.0->gomoku-ai==0.1.1) (2.33.2)\n",
            "Requirement already satisfied: typing-inspection>=0.4.0 in c:\\users\\alexander willy joha\\documents\\docs\\smu\\cs613 - prompt engineering\\assignment\\a2\\gomokuagent\\.venv\\lib\\site-packages (from pydantic<3,>=1.9.0->openai>=1.0.0->gomoku-ai==0.1.1) (0.4.1)\n",
            "Requirement already satisfied: colorama in c:\\users\\alexander willy joha\\documents\\docs\\smu\\cs613 - prompt engineering\\assignment\\a2\\gomokuagent\\.venv\\lib\\site-packages (from tqdm>4->openai>=1.0.0->gomoku-ai==0.1.1) (0.4.6)\n",
            "Note: you may need to restart the kernel to use updated packages.\n"
          ]
        },
        {
          "name": "stderr",
          "output_type": "stream",
          "text": [
            "  Running command git clone --filter=blob:none --quiet https://github.com/sitfoxfly/gomoku-ai 'C:\\Users\\ALEXANDER WILLY JOHA\\AppData\\Local\\Temp\\pip-req-build-2k89uibp'\n",
            "\n",
            "[notice] A new release of pip available: 22.3 -> 25.2\n",
            "[notice] To update, run: python.exe -m pip install --upgrade pip\n"
          ]
        },
        {
          "name": "stdout",
          "output_type": "stream",
          "text": [
            "Requirement already satisfied: python-dotenv in c:\\users\\alexander willy joha\\documents\\docs\\smu\\cs613 - prompt engineering\\assignment\\a2\\gomokuagent\\.venv\\lib\\site-packages (1.1.1)\n",
            "Note: you may need to restart the kernel to use updated packages.\n"
          ]
        },
        {
          "name": "stderr",
          "output_type": "stream",
          "text": [
            "\n",
            "[notice] A new release of pip available: 22.3 -> 25.2\n",
            "[notice] To update, run: python.exe -m pip install --upgrade pip\n"
          ]
        }
      ],
      "source": [
        "%pip install git+https://github.com/sitfoxfly/gomoku-ai\n",
        "%pip install python-dotenv"
      ]
    },
    {
      "cell_type": "code",
      "execution_count": 24,
      "metadata": {},
      "outputs": [
        {
          "data": {
            "text/plain": [
              "True"
            ]
          },
          "execution_count": 24,
          "metadata": {},
          "output_type": "execute_result"
        }
      ],
      "source": [
        "from dotenv import load_dotenv\n",
        "# Load variables from the .env file into the environment.\n",
        "# Do this BEFORE you access them.\n",
        "load_dotenv()"
      ]
    },
    {
      "cell_type": "markdown",
      "metadata": {
        "id": "7QZVyAJ0cT_I"
      },
      "source": [
        "## Understanding the Game Framework\n",
        "\n",
        "First, let's explore the existing codebase to understand how agents work in this Gomoku framework."
      ]
    },
    {
      "cell_type": "code",
      "execution_count": 18,
      "metadata": {
        "id": "iiVXS9T4cT_J"
      },
      "outputs": [],
      "source": [
        "# Import the necessary modules\n",
        "import random\n",
        "from typing import Tuple\n",
        "\n",
        "# Import the game framework components\n",
        "from gomoku.agents.base import Agent\n",
        "from gomoku.core.models import GameState, Player\n",
        "from gomoku.arena import GomokuArena\n",
        "from gomoku.utils import ColorBoardFormatter\n",
        "from gomoku.llm.openai_client import OpenAIGomokuClient\n"
      ]
    },
    {
      "cell_type": "markdown",
      "metadata": {
        "id": "HfOJwFqYcT_K"
      },
      "source": [
        "Agent Base Class Structure:\n",
        "========================================\n",
        "\n",
        "Every agent must implement the 'get_move()' method!  This method receives the current game state and returns a (row, col) tuple.\n",
        "\n",
        "📍 `get_move(game_state: GameState)`: Return (row, col) for next move.\n",
        "\n",
        "📍 `_setup()`: Initializes the agent (e.g., OpenAI client, system prompt, etc.)\n",
        "\n"
      ]
    },
    {
      "cell_type": "markdown",
      "metadata": {
        "id": "QoiAFKMBcT_L"
      },
      "source": [
        "## Understanding the Game State\n",
        "\n",
        "Before we create our agent, let's understand what information the `GameState` provides:"
      ]
    },
    {
      "cell_type": "code",
      "execution_count": 19,
      "metadata": {
        "id": "Sz5MWbTEcT_M"
      },
      "outputs": [
        {
          "name": "stdout",
          "output_type": "stream",
          "text": [
            "📋 GameState Information Available to Your Agent:\n",
            "==================================================\n",
            "🔹 Board size: 8x8\n",
            "🔹 Current player: X\n",
            "🔹 Move count: 0\n",
            "🔹 Legal moves available: 64\n",
            "\n",
            "📊 Board Layout:\n",
            "    0  1  2  3  4  5  6  7 \n",
            " 0  .  .  .  .  .  .  .  . \n",
            " 1  .  .  .  .  .  .  .  . \n",
            " 2  .  .  .  .  .  .  .  . \n",
            " 3  .  .  .  .  .  .  .  . \n",
            " 4  .  .  .  .  .  .  .  . \n",
            " 5  .  .  .  .  .  .  .  . \n",
            " 6  .  .  .  .  .  .  .  . \n",
            " 7  .  .  .  .  .  .  .  . \n",
            "\n",
            "\n",
            "💡 Key Methods You Can Use:\n",
            "   • is_valid_move(row, col) - Check if a move is legal\n",
            "   • get_legal_moves() - Get all available positions\n",
            "   • format_board(formatter) - Get board as string for LLM\n"
          ]
        }
      ],
      "source": [
        "# Create a sample game state to explore\n",
        "from gomoku.core.game_logic import GomokuGame\n",
        "\n",
        "# Initialize a small game for demonstration\n",
        "demo_game = GomokuGame(board_size=8)\n",
        "demo_state = demo_game.state\n",
        "\n",
        "print(\"📋 GameState Information Available to Your Agent:\")\n",
        "print(\"=\" * 50)\n",
        "print(f\"🔹 Board size: {demo_state.board_size}x{demo_state.board_size}\")\n",
        "print(f\"🔹 Current player: {demo_state.current_player.value}\")\n",
        "print(f\"🔹 Move count: {len(demo_state.move_history)}\")\n",
        "print(f\"🔹 Legal moves available: {len(demo_state.get_legal_moves())}\")\n",
        "\n",
        "print(\"\\n📊 Board Layout:\")\n",
        "print(demo_state.format_board('standard'))\n",
        "\n",
        "print(\"\\n💡 Key Methods You Can Use:\")\n",
        "print(\"   • is_valid_move(row, col) - Check if a move is legal\")\n",
        "print(\"   • get_legal_moves() - Get all available positions\")\n",
        "print(\"   • format_board(formatter) - Get board as string for LLM\")"
      ]
    },
    {
      "cell_type": "markdown",
      "metadata": {
        "id": "Oc32sYPvcT_M"
      },
      "source": [
        "## Examining the Simple Agent (no LLM)\n",
        "\n",
        "Let's look at how the existing `SimpleAgent` works to understand the pattern:"
      ]
    },
    {
      "cell_type": "code",
      "execution_count": 20,
      "metadata": {
        "id": "QvxnfUK0cT_N"
      },
      "outputs": [],
      "source": [
        "\n",
        "class SimpleAgent(Agent):\n",
        "    \"\"\"Simple agent with basic strategy - only needs agent_id.\"\"\"\n",
        "\n",
        "    def _setup(self):\n",
        "        \"\"\"Setup - nothing needed for simple agent.\"\"\"\n",
        "        pass\n",
        "\n",
        "    async def get_move(self, game_state: GameState) -> Tuple[int, int]:\n",
        "        \"\"\"Simple agent with basic strategy.\"\"\"\n",
        "        # Get legal moves directly from game_state\n",
        "\n",
        "        legal_moves = []\n",
        "        for row in range(game_state.board_size):\n",
        "            for col in range(game_state.board_size):\n",
        "                if game_state.board[row][col] == Player.EMPTY.value:\n",
        "                    legal_moves.append((row, col))\n",
        "\n",
        "        # Safety check for empty legal moves\n",
        "        if not legal_moves:\n",
        "            # Should not happen, but fallback to center\n",
        "            center = game_state.board_size // 2\n",
        "            return (center, center)\n",
        "\n",
        "        # Try center first, otherwise random\n",
        "        center = game_state.board_size // 2\n",
        "        if game_state.board[center][center] == Player.EMPTY.value:\n",
        "            return (center, center)\n",
        "\n",
        "        return random.choice(legal_moves)\n"
      ]
    },
    {
      "cell_type": "code",
      "execution_count": 21,
      "metadata": {
        "id": "xj0HFiqFcT_N"
      },
      "outputs": [
        {
          "name": "stdout",
          "output_type": "stream",
          "text": [
            "🤖 SimpleAgent Strategy Analysis:\n",
            "========================================\n",
            "Initial board:\n",
            "    0  1  2  3  4  5  6  7 \n",
            " 0  .  .  .  .  .  .  .  . \n",
            " 1  .  .  .  .  .  .  .  . \n",
            " 2  .  .  .  .  .  .  .  . \n",
            " 3  .  .  .  .  .  .  .  . \n",
            " 4  .  .  .  .  .  .  .  . \n",
            " 5  .  .  .  .  .  .  .  . \n",
            " 6  .  .  .  .  .  .  .  . \n",
            " 7  .  .  .  .  .  .  .  . \n",
            "\n",
            "\n",
            "🎯 SimpleAgent's first move: (4, 4)\n",
            "   Strategy: Prefers center (4, 4) if available\n",
            "\n",
            "🎯 SimpleAgent's second move: (1, 1)\n",
            "   Strategy: Random choice from available positions\n",
            "\n",
            "📝 SimpleAgent Logic Summary:\n",
            "   1. Try center position first\n",
            "   2. If center taken, choose randomly from legal moves\n",
            "   3. Very simple, no strategic thinking\n",
            "\n",
            "🔍 Board After First Step:\n",
            "    0  1  2  3  4  5  6  7 \n",
            " 0  .  .  .  .  .  .  .  . \n",
            " 1  .  .  .  .  .  .  .  . \n",
            " 2  .  .  .  .  .  .  .  . \n",
            " 3  .  .  .  .  .  .  .  . \n",
            " 4  .  .  .  .  X  .  .  . \n",
            " 5  .  .  .  .  .  .  .  . \n",
            " 6  .  .  .  .  .  .  .  . \n",
            " 7  .  .  .  .  .  .  .  . \n",
            "\n"
          ]
        }
      ],
      "source": [
        "# Let's examine the SimpleAgent's strategy\n",
        "simple_agent = SimpleAgent(\"Demo-Simple\")\n",
        "\n",
        "print(\"🤖 SimpleAgent Strategy Analysis:\")\n",
        "print(\"=\" * 40)\n",
        "\n",
        "# Let's make a few moves and see what it chooses\n",
        "demo_game = GomokuGame(board_size=8)\n",
        "demo_state = demo_game.state\n",
        "\n",
        "print(\"Initial board:\")\n",
        "print(demo_state.format_board('standard'))\n",
        "\n",
        "# Get SimpleAgent's first move\n",
        "move = await simple_agent.get_move(demo_state.copy())\n",
        "print(f\"\\n🎯 SimpleAgent's first move: {move}\")\n",
        "print(f\"   Strategy: Prefers center ({demo_state.board_size//2}, {demo_state.board_size//2}) if available\")\n",
        "\n",
        "# Make that move and see the next one\n",
        "demo_game.make_move(move[0], move[1])\n",
        "move2 = await simple_agent.get_move(demo_game.state.copy())\n",
        "print(f\"\\n🎯 SimpleAgent's second move: {move2}\")\n",
        "print(f\"   Strategy: Random choice from available positions\")\n",
        "\n",
        "print(\"\\n📝 SimpleAgent Logic Summary:\")\n",
        "print(\"   1. Try center position first\")\n",
        "print(\"   2. If center taken, choose randomly from legal moves\")\n",
        "print(\"   3. Very simple, no strategic thinking\")\n",
        "\n",
        "print(\"\\n🔍 Board After First Step:\")\n",
        "print(demo_state.format_board('standard'))"
      ]
    },
    {
      "cell_type": "markdown",
      "metadata": {
        "id": "fY-NJZWjcT_N"
      },
      "source": [
        "## Designing Our LLM Agent\n",
        "\n",
        "Now let's create our own LLM-powered agent! We'll build it step by step.\n",
        "\n",
        "### What makes an LLM agent special?\n",
        "- Uses natural language reasoning\n",
        "- Can understand strategic concepts\n",
        "- Can adapt to different situations\n",
        "- Can explain its thinking process"
      ]
    },
    {
      "cell_type": "code",
      "execution_count": 25,
      "metadata": {
        "id": "8m9cl6f5cT_O"
      },
      "outputs": [
        {
          "name": "stdout",
          "output_type": "stream",
          "text": [
            "🎉 StudentLLMAgent class defined!\n",
            "   This agent demonstrates LLM-style strategic thinking.\n"
          ]
        }
      ],
      "source": [
        "from os import getenv\n",
        "import re\n",
        "import json\n",
        "\n",
        "# First, let's design our LLM agent class structure\n",
        "\n",
        "class StudentLLMAgent(Agent):\n",
        "    \"\"\"An educational LLM agent that students will build step by step.\"\"\"\n",
        "\n",
        "    def __init__(self, agent_id: str):\n",
        "        super().__init__(agent_id)\n",
        "        print(f\"🎓 Created StudentLLMAgent: {agent_id}\")\n",
        "\n",
        "    def _setup(self):\n",
        "        \"\"\"Setup our LLM client and prompts.\"\"\"\n",
        "        print(\"⚙️  Setting up LLM agent...\")\n",
        "\n",
        "        # We'll add the LLM client setup here\n",
        "        # For now, let's define our system prompt\n",
        "        self.system_prompt = self._create_system_prompt()\n",
        "\n",
        "        # We'll simulate an LLM for educational purposes\n",
        "        self.llm_client = OpenAIGomokuClient(\n",
        "            api_key=getenv(\"GROQ_API_KEY\"),\n",
        "            model=\"gemma2-9b-it\",\n",
        "            endpoint=\"https://api.groq.com/openai/v1\",\n",
        "        )\n",
        "\n",
        "        print(\"✅ Agent setup complete!\")\n",
        "\n",
        "    def _create_system_prompt(self) -> str:\n",
        "        \"\"\"Create the system prompt that teaches the LLM how to play Gomoku.\"\"\"\n",
        "        return \"\"\"\n",
        "You are an expert Gomoku (Five-in-a-Row) player. Your goal is to get 5 of your pieces\n",
        "in a row (horizontally, vertically, or diagonally) while preventing your opponent from doing the same.\n",
        "\n",
        "Strategic priorities:\n",
        "1. WIN: If you can make 5 in a row, do it immediately\n",
        "2. BLOCK: If opponent can make 5 in a row, block them immediately\n",
        "3. CREATE THREATS: Build sequences of 2-3 pieces to create multiple winning opportunities\n",
        "4. CONTROL CENTER: The center area is most valuable for creating multiple directions\n",
        "5. CREATE FORKS: Try to create situations where you have multiple ways to win\n",
        "\n",
        "You must respond with valid JSON in this exact format:\n",
        "{\n",
        "    \"reasoning\": \"Brief explanation of your strategic thinking\",\n",
        "    \"row\": <row_number>,\n",
        "    \"col\": <col_number>\n",
        "}\n",
        "\n",
        "The row and col must be valid coordinates (0-indexed). Choose only empty positions marked with '.'.\n",
        "\"\"\".strip()\n",
        "\n",
        "    async def get_move(self, game_state: GameState) -> Tuple[int, int]:\n",
        "        \"\"\"Main method: Get the next move from our LLM.\"\"\"\n",
        "        print(f\"\\n🧠 {self.agent_id} is thinking...\")\n",
        "\n",
        "        try:\n",
        "\n",
        "            board_str = game_state.format_board(formatter=\"standard\")\n",
        "            board_prompt = f\"Current board state:\\n{board_str}\\n\"\n",
        "            board_prompt += f\"Current player: {game_state.current_player.value}\\n\"\n",
        "\n",
        "            # Create messages for the LLM\n",
        "            messages = [\n",
        "                {\"role\": \"system\", \"content\": self.system_prompt},\n",
        "                {\"role\": \"user\", \"content\": f\"{board_prompt}\\n\\nPlease provide your next move as JSON.\"},\n",
        "            ]\n",
        "\n",
        "            print(\"💡 Full Prompt:\\n\\n\")\n",
        "            print(json.dumps(messages, indent=2, ensure_ascii=False))\n",
        "            print()\n",
        "\n",
        "            # Get response from LLM\n",
        "            response = await self.llm_client.complete(messages)\n",
        "\n",
        "            print(\"💡 Response:\\n\\n\")\n",
        "            print(response)\n",
        "            print()\n",
        "\n",
        "            if m := re.search(r\"{[^}]+}\", response, re.DOTALL):\n",
        "                json_data = json.loads(m.group(0).strip())\n",
        "                return json_data[\"row\"], json_data[\"col\"]\n",
        "\n",
        "        except Exception as e:\n",
        "            print(e)\n",
        "\n",
        "        return self._get_fallback_move(game_state)\n",
        "\n",
        "    def _get_fallback_move(self, game_state: GameState) -> Tuple[int, int]:\n",
        "        \"\"\"Simple fallback when LLM fails.\"\"\"\n",
        "        return random.choice(game_state.get_legal_moves())\n",
        "\n",
        "print(\"🎉 StudentLLMAgent class defined!\")\n",
        "print(\"   This agent demonstrates LLM-style strategic thinking.\")"
      ]
    },
    {
      "cell_type": "markdown",
      "metadata": {
        "id": "Vitxi0AFcT_P"
      },
      "source": [
        "## Step 6: Testing Our LLM Agent\n",
        "\n",
        "Let's create an instance of our agent and test its decision-making:"
      ]
    },
    {
      "cell_type": "code",
      "execution_count": 26,
      "metadata": {
        "id": "61oPAHGGcT_P"
      },
      "outputs": [
        {
          "name": "stdout",
          "output_type": "stream",
          "text": [
            "⚙️  Setting up LLM agent...\n",
            "✅ Agent setup complete!\n",
            "🎓 Created StudentLLMAgent: StudentAI-v1\n",
            "\n",
            "🧪 Testing our LLM agent's decision making...\n",
            "==================================================\n",
            "✅ Move 1: Player X at (3, 3)\n",
            "✅ Move 2: Player O at (3, 4)\n",
            "✅ Move 3: Player X at (4, 4)\n",
            "\n",
            "Current board:\n",
            "    0  1  2  3  4  5  6  7 \n",
            " 0  .  .  .  .  .  .  .  . \n",
            " 1  .  .  .  .  .  .  .  . \n",
            " 2  .  .  .  .  .  .  .  . \n",
            " 3  .  .  .  X  O  .  .  . \n",
            " 4  .  .  .  .  X  .  .  . \n",
            " 5  .  .  .  .  .  .  .  . \n",
            " 6  .  .  .  .  .  .  .  . \n",
            " 7  .  .  .  .  .  .  .  . \n",
            "\n",
            "\n",
            "🤔 Let's see what our StudentLLMAgent decides...\n",
            "\n",
            "🧠 StudentAI-v1 is thinking...\n",
            "💡 Full Prompt:\n",
            "\n",
            "\n",
            "[\n",
            "  {\n",
            "    \"role\": \"system\",\n",
            "    \"content\": \"You are an expert Gomoku (Five-in-a-Row) player. Your goal is to get 5 of your pieces\\nin a row (horizontally, vertically, or diagonally) while preventing your opponent from doing the same.\\n\\nStrategic priorities:\\n1. WIN: If you can make 5 in a row, do it immediately\\n2. BLOCK: If opponent can make 5 in a row, block them immediately\\n3. CREATE THREATS: Build sequences of 2-3 pieces to create multiple winning opportunities\\n4. CONTROL CENTER: The center area is most valuable for creating multiple directions\\n5. CREATE FORKS: Try to create situations where you have multiple ways to win\\n\\nYou must respond with valid JSON in this exact format:\\n{\\n    \\\"reasoning\\\": \\\"Brief explanation of your strategic thinking\\\",\\n    \\\"row\\\": <row_number>,\\n    \\\"col\\\": <col_number>\\n}\\n\\nThe row and col must be valid coordinates (0-indexed). Choose only empty positions marked with '.'.\"\n",
            "  },\n",
            "  {\n",
            "    \"role\": \"user\",\n",
            "    \"content\": \"Current board state:\\n    0  1  2  3  4  5  6  7 \\n 0  .  .  .  .  .  .  .  . \\n 1  .  .  .  .  .  .  .  . \\n 2  .  .  .  .  .  .  .  . \\n 3  .  .  .  X  O  .  .  . \\n 4  .  .  .  .  X  .  .  . \\n 5  .  .  .  .  .  .  .  . \\n 6  .  .  .  .  .  .  .  . \\n 7  .  .  .  .  .  .  .  . \\n\\nCurrent player: O\\n\\n\\nPlease provide your next move as JSON.\"\n",
            "  }\n",
            "]\n",
            "\n",
            "💡 Response:\n",
            "\n",
            "\n",
            "```json\n",
            "{\n",
            "    \"reasoning\": \"Playing in the center to control a key area and create potential threats.\",\n",
            "    \"row\": 3,\n",
            "    \"col\": 3\n",
            "}\n",
            "``` \n",
            "\n",
            "\n",
            "\n",
            "🎯 StudentLLMAgent chose: (3, 3)\n",
            "\n",
            "🤖 For comparison, SimpleAgent would choose:\n",
            "🎯 SimpleAgent chose: (7, 6)\n",
            "\n",
            "📊 Analysis:\n",
            "   • StudentLLM: Chose (3, 3) (strategic reasoning)\n",
            "   • SimpleAgent: Chose (7, 6) (random/center preference)\n",
            "   • Our LLM agent shows more sophisticated decision-making!\n"
          ]
        }
      ],
      "source": [
        "# Create and test our LLM agent\n",
        "student_agent = StudentLLMAgent(\"StudentAI-v1\")\n",
        "\n",
        "print(\"\\n🧪 Testing our LLM agent's decision making...\")\n",
        "print(\"=\" * 50)\n",
        "\n",
        "# Create a test scenario\n",
        "test_game = GomokuGame(board_size=8)\n",
        "\n",
        "# Make some moves to create an interesting position\n",
        "test_moves = [(3, 3), (3, 4), (4, 4)]  # Create a small pattern\n",
        "for i, (row, col) in enumerate(test_moves):\n",
        "    if test_game.make_move(row, col):\n",
        "        print(f\"✅ Move {i+1}: Player {test_game.state.move_history[-1].player.value} at ({row}, {col})\")\n",
        "\n",
        "print(\"\\nCurrent board:\")\n",
        "print(test_game.state.format_board('standard'))\n",
        "\n",
        "# Now let our agent make a decision\n",
        "print(\"\\n🤔 Let's see what our StudentLLMAgent decides...\")\n",
        "student_move = await student_agent.get_move(test_game.state.copy())\n",
        "print(f\"\\n🎯 StudentLLMAgent chose: {student_move}\")\n",
        "\n",
        "# Compare with SimpleAgent\n",
        "print(\"\\n🤖 For comparison, SimpleAgent would choose:\")\n",
        "simple_comparison = SimpleAgent(\"Simple-Comparison\")\n",
        "simple_move = await simple_comparison.get_move(test_game.state.copy())\n",
        "print(f\"🎯 SimpleAgent chose: {simple_move}\")\n",
        "\n",
        "print(\"\\n📊 Analysis:\")\n",
        "print(f\"   • StudentLLM: Chose {student_move} (strategic reasoning)\")\n",
        "print(f\"   • SimpleAgent: Chose {simple_move} (random/center preference)\")\n",
        "print(\"   • Our LLM agent shows more sophisticated decision-making!\")"
      ]
    },
    {
      "cell_type": "markdown",
      "metadata": {
        "id": "-XpQ_oQ5cT_P"
      },
      "source": [
        "## Step 7: Setting Up the Competition Arena\n",
        "\n",
        "Now let's prepare for an exciting competition between our agents!"
      ]
    },
    {
      "cell_type": "code",
      "execution_count": 27,
      "metadata": {
        "id": "27pl186dcT_P"
      },
      "outputs": [
        {
          "name": "stdout",
          "output_type": "stream",
          "text": [
            "🏟️  Setting up the Competition Arena!\n",
            "==================================================\n",
            "⚙️  Arena Configuration:\n",
            "   📏 Board size: 8x8\n",
            "   ⏱️  Time limit: 10 seconds per move\n",
            "   🎨 Visualization: Color-coded board\n",
            "⚙️  Setting up LLM agent...\n",
            "✅ Agent setup complete!\n",
            "🎓 Created StudentLLMAgent: StudentAI\n",
            "\n",
            "🤖 Competitors Ready:\n",
            "   • SimpleBot (simple)\n",
            "   • StudentAI (student_llm)\n",
            "\n",
            "🎮 Ready for competition!\n"
          ]
        }
      ],
      "source": [
        "# Setup the competition arena\n",
        "print(\"🏟️  Setting up the Competition Arena!\")\n",
        "print(\"=\" * 50)\n",
        "\n",
        "# Create arena with nice visualization\n",
        "board_size = 8  # Smaller board for faster games\n",
        "formatter = ColorBoardFormatter(board_size)\n",
        "arena = GomokuArena(board_size=board_size, formatter=formatter, time_limit=10.0)\n",
        "\n",
        "print(f\"⚙️  Arena Configuration:\")\n",
        "print(f\"   📏 Board size: {board_size}x{board_size}\")\n",
        "print(f\"   ⏱️  Time limit: 10 seconds per move\")\n",
        "print(f\"   🎨 Visualization: Color-coded board\")\n",
        "\n",
        "# Create our competing agents\n",
        "agents = {\n",
        "    'simple': SimpleAgent(\"SimpleBot\"),\n",
        "    'student_llm': StudentLLMAgent(\"StudentAI\")\n",
        "}\n",
        "\n",
        "print(f\"\\n🤖 Competitors Ready:\")\n",
        "for name, agent in agents.items():\n",
        "    print(f\"   • {agent.agent_id} ({name})\")\n",
        "\n",
        "print(\"\\n🎮 Ready for competition!\")"
      ]
    },
    {
      "cell_type": "markdown",
      "metadata": {
        "id": "05WygnXHcT_P"
      },
      "source": [
        "## Step 8: The Competition - Simple vs LLM Agent\n",
        "\n",
        "Time for the main event! Let's watch our agents compete:"
      ]
    },
    {
      "cell_type": "code",
      "execution_count": 28,
      "metadata": {
        "id": "nrxpDrtncT_Q"
      },
      "outputs": [
        {
          "name": "stdout",
          "output_type": "stream",
          "text": [
            "🥊 COMPETITION: SimpleAgent vs StudentLLMAgent\n",
            "============================================================\n",
            "\n",
            "BLACK's turn (SimpleBot)\n",
            "    0  1  2  3  4  5  6  7 \n",
            " 0  .  .  .  .  .  .  .  . \n",
            " 1  .  .  .  .  .  .  .  . \n",
            " 2  .  .  .  .  .  .  .  . \n",
            " 3  .  .  .  .  .  .  .  . \n",
            " 4  .  .  .  .  .  .  .  . \n",
            " 5  .  .  .  .  .  .  .  . \n",
            " 6  .  .  .  .  .  .  .  . \n",
            " 7  .  .  .  .  .  .  .  . \n",
            "\n",
            "Move: (4, 4) in 0.00s\n",
            "\n",
            "WHITE's turn (StudentAI)\n",
            "    0  1  2  3  4  5  6  7 \n",
            " 0  .  .  .  .  .  .  .  . \n",
            " 1  .  .  .  .  .  .  .  . \n",
            " 2  .  .  .  .  .  .  .  . \n",
            " 3  .  .  .  .  .  .  .  . \n",
            " 4  .  .  .  .  X  .  .  . \n",
            " 5  .  .  .  .  .  .  .  . \n",
            " 6  .  .  .  .  .  .  .  . \n",
            " 7  .  .  .  .  .  .  .  . \n",
            "\n",
            "\n",
            "🧠 StudentAI is thinking...\n",
            "💡 Full Prompt:\n",
            "\n",
            "\n",
            "[\n",
            "  {\n",
            "    \"role\": \"system\",\n",
            "    \"content\": \"You are an expert Gomoku (Five-in-a-Row) player. Your goal is to get 5 of your pieces\\nin a row (horizontally, vertically, or diagonally) while preventing your opponent from doing the same.\\n\\nStrategic priorities:\\n1. WIN: If you can make 5 in a row, do it immediately\\n2. BLOCK: If opponent can make 5 in a row, block them immediately\\n3. CREATE THREATS: Build sequences of 2-3 pieces to create multiple winning opportunities\\n4. CONTROL CENTER: The center area is most valuable for creating multiple directions\\n5. CREATE FORKS: Try to create situations where you have multiple ways to win\\n\\nYou must respond with valid JSON in this exact format:\\n{\\n    \\\"reasoning\\\": \\\"Brief explanation of your strategic thinking\\\",\\n    \\\"row\\\": <row_number>,\\n    \\\"col\\\": <col_number>\\n}\\n\\nThe row and col must be valid coordinates (0-indexed). Choose only empty positions marked with '.'.\"\n",
            "  },\n",
            "  {\n",
            "    \"role\": \"user\",\n",
            "    \"content\": \"Current board state:\\n    0  1  2  3  4  5  6  7 \\n 0  .  .  .  .  .  .  .  . \\n 1  .  .  .  .  .  .  .  . \\n 2  .  .  .  .  .  .  .  . \\n 3  .  .  .  .  .  .  .  . \\n 4  .  .  .  .  X  .  .  . \\n 5  .  .  .  .  .  .  .  . \\n 6  .  .  .  .  .  .  .  . \\n 7  .  .  .  .  .  .  .  . \\n\\nCurrent player: O\\n\\n\\nPlease provide your next move as JSON.\"\n",
            "  }\n",
            "]\n",
            "\n",
            "💡 Response:\n",
            "\n",
            "\n",
            "```json\n",
            "{\n",
            "    \"reasoning\": \"Playing in the center to control the board and create potential winning lines.\",\n",
            "    \"row\": 3,\n",
            "    \"col\": 3\n",
            "}\n",
            "```\n",
            "\n",
            "Move: (3, 3) in 0.50s\n",
            "\n",
            "BLACK's turn (SimpleBot)\n",
            "    0  1  2  3  4  5  6  7 \n",
            " 0  .  .  .  .  .  .  .  . \n",
            " 1  .  .  .  .  .  .  .  . \n",
            " 2  .  .  .  .  .  .  .  . \n",
            " 3  .  .  .  O  .  .  .  . \n",
            " 4  .  .  .  .  X  .  .  . \n",
            " 5  .  .  .  .  .  .  .  . \n",
            " 6  .  .  .  .  .  .  .  . \n",
            " 7  .  .  .  .  .  .  .  . \n",
            "\n",
            "Move: (2, 4) in 0.00s\n",
            "\n",
            "WHITE's turn (StudentAI)\n",
            "    0  1  2  3  4  5  6  7 \n",
            " 0  .  .  .  .  .  .  .  . \n",
            " 1  .  .  .  .  .  .  .  . \n",
            " 2  .  .  .  .  X  .  .  . \n",
            " 3  .  .  .  O  .  .  .  . \n",
            " 4  .  .  .  .  X  .  .  . \n",
            " 5  .  .  .  .  .  .  .  . \n",
            " 6  .  .  .  .  .  .  .  . \n",
            " 7  .  .  .  .  .  .  .  . \n",
            "\n",
            "\n",
            "🧠 StudentAI is thinking...\n",
            "💡 Full Prompt:\n",
            "\n",
            "\n",
            "[\n",
            "  {\n",
            "    \"role\": \"system\",\n",
            "    \"content\": \"You are an expert Gomoku (Five-in-a-Row) player. Your goal is to get 5 of your pieces\\nin a row (horizontally, vertically, or diagonally) while preventing your opponent from doing the same.\\n\\nStrategic priorities:\\n1. WIN: If you can make 5 in a row, do it immediately\\n2. BLOCK: If opponent can make 5 in a row, block them immediately\\n3. CREATE THREATS: Build sequences of 2-3 pieces to create multiple winning opportunities\\n4. CONTROL CENTER: The center area is most valuable for creating multiple directions\\n5. CREATE FORKS: Try to create situations where you have multiple ways to win\\n\\nYou must respond with valid JSON in this exact format:\\n{\\n    \\\"reasoning\\\": \\\"Brief explanation of your strategic thinking\\\",\\n    \\\"row\\\": <row_number>,\\n    \\\"col\\\": <col_number>\\n}\\n\\nThe row and col must be valid coordinates (0-indexed). Choose only empty positions marked with '.'.\"\n",
            "  },\n",
            "  {\n",
            "    \"role\": \"user\",\n",
            "    \"content\": \"Current board state:\\n    0  1  2  3  4  5  6  7 \\n 0  .  .  .  .  .  .  .  . \\n 1  .  .  .  .  .  .  .  . \\n 2  .  .  .  .  X  .  .  . \\n 3  .  .  .  O  .  .  .  . \\n 4  .  .  .  .  X  .  .  . \\n 5  .  .  .  .  .  .  .  . \\n 6  .  .  .  .  .  .  .  . \\n 7  .  .  .  .  .  .  .  . \\n\\nCurrent player: O\\n\\n\\nPlease provide your next move as JSON.\"\n",
            "  }\n",
            "]\n",
            "\n",
            "💡 Response:\n",
            "\n",
            "\n",
            "{\n",
            "    \"reasoning\": \"Playing in the center to control the board and create potential threats.\",\n",
            "    \"row\": 3,\n",
            "    \"col\": 3\n",
            "} \n",
            "\n",
            "\n",
            "Invalid move by StudentAI: (3, 3)\n",
            "Final board:\n",
            "    0  1  2  3  4  5  6  7 \n",
            " 0  .  .  .  .  .  .  .  . \n",
            " 1  .  .  .  .  .  .  .  . \n",
            " 2  .  .  .  .  X  .  .  . \n",
            " 3  .  .  .  O  .  .  .  . \n",
            " 4  .  .  .  .  X  .  .  . \n",
            " 5  .  .  .  .  .  .  .  . \n",
            " 6  .  .  .  .  .  .  .  . \n",
            " 7  .  .  .  .  .  .  .  . \n",
            "\n",
            "\n",
            "============================================================\n",
            "🏆 GAME RESULTS\n",
            "============================================================\n",
            "🥇 Winner: SimpleBot\n",
            "📊 Total moves: 3\n",
            "⏱️  Game duration: 0.00 seconds\n",
            "🎯 Victory condition: Invalid move by StudentAI at (3, 3)\n",
            "\n",
            "🎮 Final Board with Winning Sequence:\n",
            "    0  1  2  3  4  5  6  7 \n",
            " 0  .  .  .  .  .  .  .  . \n",
            " 1  .  .  .  .  .  .  .  . \n",
            " 2  .  .  .  .  X  .  .  . \n",
            " 3  .  .  .  O  .  .  .  . \n",
            " 4  .  .  .  .  X  .  .  . \n",
            " 5  .  .  .  .  .  .  .  . \n",
            " 6  .  .  .  .  .  .  .  . \n",
            " 7  .  .  .  .  .  .  .  . \n",
            "\n"
          ]
        }
      ],
      "source": [
        "# Single game competition\n",
        "print(\"🥊 COMPETITION: SimpleAgent vs StudentLLMAgent\")\n",
        "print(\"=\" * 60)\n",
        "\n",
        "# Run the game\n",
        "game_result = await arena.run_game(\n",
        "    agents['simple'],\n",
        "    agents['student_llm'],\n",
        "    verbose=True\n",
        ")\n",
        "\n",
        "print(\"\\n\" + \"=\" * 60)\n",
        "print(\"🏆 GAME RESULTS\")\n",
        "print(\"=\" * 60)\n",
        "print(f\"🥇 Winner: {game_result['winner']}\")\n",
        "print(f\"📊 Total moves: {game_result['moves']}\")\n",
        "print(f\"⏱️  Game duration: {game_result.get('total_time', 0):.2f} seconds\")\n",
        "print(f\"🎯 Victory condition: {game_result['reason']}\")\n",
        "\n",
        "if game_result.get('winning_sequence'):\n",
        "    print(f\"🏁 Winning sequence: {len(game_result['winning_sequence'])} positions\")\n",
        "\n",
        "print(\"\\n🎮 Final Board with Winning Sequence:\")\n",
        "final_display = arena.draw_board_with_winning_sequence(\n",
        "    game_result['final_board'],\n",
        "    game_result.get('winning_sequence', [])\n",
        ")\n",
        "print(final_display)"
      ]
    },
    {
      "cell_type": "markdown",
      "metadata": {
        "id": "ZNaSWcGdcT_R"
      },
      "source": [
        "## Summary\n",
        "\n",
        "In this tutorial, you learned:\n",
        "\n",
        "1. **Agent Architecture** - How to inherit from base classes and implement required methods\n",
        "2. **Game State Analysis** - How to read and interpret game information\n",
        "3. **Strategic Reasoning** - How to implement win detection, blocking, and strategic positioning\n",
        "4. **LLM Integration** - How LLMs can be used for game AI (with mock implementation)\n",
        "5. **Competition Framework** - How to run tournaments and analyze results\n",
        "6. **Error Handling** - How to implement fallback strategies for robustness\n",
        "\n",
        "### Key Design Patterns\n",
        "- **Strategy Pattern**: Different agents implement different strategies\n",
        "- **Template Method**: Base class defines structure, subclasses implement specifics  \n",
        "- **Dependency Injection**: Arena accepts any agent that follows the interface\n",
        "- **Fallback Pattern**: Always have a backup plan when AI fails\n",
        "\n",
        "### Next Steps\n",
        "- Experiment with different prompting strategies\n",
        "- Create agents with different personalities or difficulty levels\n",
        "\n",
        "Happy coding! 🚀"
      ]
    },
    {
      "cell_type": "code",
      "execution_count": null,
      "metadata": {
        "id": "IOawlglyggwv"
      },
      "outputs": [],
      "source": []
    }
  ],
  "metadata": {
    "colab": {
      "generative_ai_disabled": true,
      "private_outputs": true,
      "provenance": []
    },
    "kernelspec": {
      "display_name": ".venv",
      "language": "python",
      "name": "python3"
    },
    "language_info": {
      "codemirror_mode": {
        "name": "ipython",
        "version": 3
      },
      "file_extension": ".py",
      "mimetype": "text/x-python",
      "name": "python",
      "nbconvert_exporter": "python",
      "pygments_lexer": "ipython3",
      "version": "3.11.0"
    }
  },
  "nbformat": 4,
  "nbformat_minor": 0
}
